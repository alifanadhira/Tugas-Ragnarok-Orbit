{
 "cells": [
  {
   "cell_type": "markdown",
   "id": "ea72127a",
   "metadata": {},
   "source": [
    "## Module 1: Introduction to Everything\n",
    "\n",
    "### Alifa Nadhira Putri_STMIK Amik"
   ]
  },
  {
   "cell_type": "markdown",
   "id": "17eba1be",
   "metadata": {},
   "source": [
    "# [Sesi Pagi]"
   ]
  },
  {
   "cell_type": "markdown",
   "id": "9501460f",
   "metadata": {},
   "source": [
    "### STRING"
   ]
  },
  {
   "cell_type": "code",
   "execution_count": 1,
   "id": "d473810e",
   "metadata": {},
   "outputs": [
    {
     "name": "stdout",
     "output_type": "stream",
     "text": [
      "hello\n",
      "\n",
      "This is also a string\n"
     ]
    }
   ],
   "source": [
    "print('hello')\n",
    "print()\n",
    "print('This is also a string')"
   ]
  },
  {
   "cell_type": "markdown",
   "id": "bf3cb1cc",
   "metadata": {},
   "source": [
    "### VARIABLES"
   ]
  },
  {
   "cell_type": "code",
   "execution_count": 3,
   "id": "0531a4bf",
   "metadata": {},
   "outputs": [
    {
     "name": "stdout",
     "output_type": "stream",
     "text": [
      "New York\n",
      "<class 'str'>\n",
      "8\n"
     ]
    }
   ],
   "source": [
    "s = 'New York'\n",
    "print(s)\n",
    "print(type(s)) #string type\n",
    "print(len(s)) #string length"
   ]
  },
  {
   "cell_type": "markdown",
   "id": "3d47c2ab",
   "metadata": {},
   "source": [
    "### STRING INDEXING"
   ]
  },
  {
   "cell_type": "code",
   "execution_count": 4,
   "id": "1e0341c5",
   "metadata": {
    "scrolled": true
   },
   "outputs": [
    {
     "name": "stdout",
     "output_type": "stream",
     "text": [
      "Hello World\n",
      "\n",
      "H\n",
      "\n",
      "e\n"
     ]
    }
   ],
   "source": [
    "s = 'Hello World'\n",
    "\n",
    "print(s) \n",
    "print() \n",
    "\n",
    "print(s[0]) #Show first element in 's'\n",
    "print()\n",
    "\n",
    "print(s[1]) #Show the second element in 's'"
   ]
  },
  {
   "cell_type": "markdown",
   "id": "122538a6",
   "metadata": {},
   "source": [
    "### STRING CONCATENATION & REPETITION"
   ]
  },
  {
   "cell_type": "code",
   "execution_count": 7,
   "id": "160cbdf8",
   "metadata": {},
   "outputs": [
    {
     "name": "stdout",
     "output_type": "stream",
     "text": [
      "Hello World\n",
      "Hello Hai Hello Hai Hello Hai \n",
      "----------\n"
     ]
    }
   ],
   "source": [
    "#Concatenation\n",
    "s1 = 'Hello'\n",
    "s2 = \"World\"\n",
    "print(s1 + \" \" + s2) #combining 's1',' ', and 's2'\n",
    "\n",
    "\n",
    "#Repetition\n",
    "print(\"Hello Hai \" * 3) #repeating a string 3 times\n",
    "print(\"-\" * 10) #repeating a string 10 times"
   ]
  },
  {
   "cell_type": "markdown",
   "id": "a960c344",
   "metadata": {},
   "source": [
    "### STRING SLICING & INDEXING"
   ]
  },
  {
   "cell_type": "code",
   "execution_count": 10,
   "id": "ffd711d1",
   "metadata": {},
   "outputs": [
    {
     "name": "stdout",
     "output_type": "stream",
     "text": [
      "a\n",
      "e Dun\n",
      "Duni\n"
     ]
    }
   ],
   "source": [
    "s = \"Namaste Dunia\"\n",
    "\n",
    "print(s[1]) #INDEXING\n",
    "print(s[6:11]) #SLICING\n",
    "print(s[-5:-1])"
   ]
  },
  {
   "cell_type": "code",
   "execution_count": 11,
   "id": "bbfce47d",
   "metadata": {},
   "outputs": [
    {
     "name": "stdout",
     "output_type": "stream",
     "text": [
      "NAMASTE DUNIA\n"
     ]
    }
   ],
   "source": [
    "print(s.upper())"
   ]
  },
  {
   "cell_type": "code",
   "execution_count": 13,
   "id": "4180e4b4",
   "metadata": {},
   "outputs": [
    {
     "name": "stdout",
     "output_type": "stream",
     "text": [
      "namaste dunia\n"
     ]
    }
   ],
   "source": [
    "print(s.lower())"
   ]
  },
  {
   "cell_type": "markdown",
   "id": "acac5f64",
   "metadata": {},
   "source": [
    "### PRINT FORMATTING"
   ]
  },
  {
   "cell_type": "code",
   "execution_count": 14,
   "id": "7577cb70",
   "metadata": {},
   "outputs": [],
   "source": [
    "name = \"Jane Doe\"\n",
    "age = \"29\"\n",
    "married = False"
   ]
  },
  {
   "cell_type": "code",
   "execution_count": 17,
   "id": "437a1f68",
   "metadata": {},
   "outputs": [
    {
     "name": "stdout",
     "output_type": "stream",
     "text": [
      "Hi, my name is Jane Doe, I'm 29 years old, it is a False assumption that I am married\n"
     ]
    }
   ],
   "source": [
    "print(\"Hi, my name is {}, I'm {} years old, it is a {} assumption that I am married\"\n",
    "      .format(name, age, married))"
   ]
  },
  {
   "cell_type": "markdown",
   "id": "ac49f66f",
   "metadata": {},
   "source": [
    "### BASIC ARITHMETIC"
   ]
  },
  {
   "cell_type": "code",
   "execution_count": 19,
   "id": "8983536b",
   "metadata": {
    "scrolled": true
   },
   "outputs": [
    {
     "name": "stdout",
     "output_type": "stream",
     "text": [
      "3\n",
      "3\n",
      "1\n",
      "4\n",
      "1.5\n"
     ]
    },
    {
     "data": {
      "text/plain": [
       "156"
      ]
     },
     "execution_count": 19,
     "metadata": {},
     "output_type": "execute_result"
    }
   ],
   "source": [
    "print(2+1) # Addition\n",
    "print(2+1) # Subtraction\n",
    "print(2-1) # Multiplication\n",
    "print(2*2) # Division\n",
    "print(3/2)\n",
    "\n",
    "\n",
    "2**3 # Powers\n",
    "2 + 10 * 10 + 3 # Order of Operations followed in Python\n",
    "(2+10) * (10+3) # Can use parenthesis to specify orders\n"
   ]
  },
  {
   "cell_type": "markdown",
   "id": "c57640c3",
   "metadata": {},
   "source": [
    "# [Sesi Siang]"
   ]
  },
  {
   "cell_type": "code",
   "execution_count": 20,
   "id": "6a697a26",
   "metadata": {},
   "outputs": [
    {
     "name": "stdout",
     "output_type": "stream",
     "text": [
      "<class 'int'>\n",
      "<class 'float'>\n"
     ]
    }
   ],
   "source": [
    "# Identifying Data Types\n",
    "a = 42\n",
    "b = 42.40\n",
    "\n",
    "print(type(a))\n",
    "print(type(b))"
   ]
  },
  {
   "cell_type": "markdown",
   "id": "71f31e45",
   "metadata": {},
   "source": [
    "### LIST"
   ]
  },
  {
   "cell_type": "code",
   "execution_count": 23,
   "id": "48e99259",
   "metadata": {},
   "outputs": [
    {
     "data": {
      "text/plain": [
       "5"
      ]
     },
     "execution_count": 23,
     "metadata": {},
     "output_type": "execute_result"
    }
   ],
   "source": [
    "my_list = ['A string', 23, 100.232,'o', ['a', 'b']]\n",
    "len(my_list)"
   ]
  },
  {
   "cell_type": "code",
   "execution_count": 24,
   "id": "944c39c7",
   "metadata": {},
   "outputs": [
    {
     "name": "stdout",
     "output_type": "stream",
     "text": [
      "['A string', 23, 100.232, 'o', ['a', 'b'], 3.1]\n"
     ]
    }
   ],
   "source": [
    "my_list.append(3.1)\n",
    "print(my_list)"
   ]
  },
  {
   "cell_type": "code",
   "execution_count": 25,
   "id": "66e68709",
   "metadata": {},
   "outputs": [
    {
     "name": "stdout",
     "output_type": "stream",
     "text": [
      "['A string', 23, 100.232, 'o', ['a', 'b'], 3.1, 'c', 'd']\n"
     ]
    }
   ],
   "source": [
    "my_list.extend(['c', 'd'])\n",
    "print(my_list)"
   ]
  },
  {
   "cell_type": "markdown",
   "id": "8c210353",
   "metadata": {},
   "source": [
    "### SLICING"
   ]
  },
  {
   "cell_type": "code",
   "execution_count": 27,
   "id": "ffccfc40",
   "metadata": {},
   "outputs": [
    {
     "name": "stdout",
     "output_type": "stream",
     "text": [
      "[100.232, 'o', ['a', 'b'], 3.1]\n"
     ]
    }
   ],
   "source": [
    "print (my_list[2:6])"
   ]
  },
  {
   "cell_type": "markdown",
   "id": "dfb583c6",
   "metadata": {},
   "source": [
    "### DICTIONARIES"
   ]
  },
  {
   "cell_type": "code",
   "execution_count": 31,
   "id": "cf4f2c2b",
   "metadata": {},
   "outputs": [],
   "source": [
    "my_dict = {'Name' : 'John Doe', \n",
    "           'Age' : '31', \n",
    "           'Occupation' : 'Data Scientist'}"
   ]
  },
  {
   "cell_type": "code",
   "execution_count": 32,
   "id": "98e770d4",
   "metadata": {},
   "outputs": [
    {
     "data": {
      "text/plain": [
       "'John Doe'"
      ]
     },
     "execution_count": 32,
     "metadata": {},
     "output_type": "execute_result"
    }
   ],
   "source": [
    "my_dict['Name']"
   ]
  },
  {
   "cell_type": "code",
   "execution_count": 33,
   "id": "331948e2",
   "metadata": {},
   "outputs": [
    {
     "data": {
      "text/plain": [
       "'31'"
      ]
     },
     "execution_count": 33,
     "metadata": {},
     "output_type": "execute_result"
    }
   ],
   "source": [
    "my_dict['Age']"
   ]
  },
  {
   "cell_type": "code",
   "execution_count": 34,
   "id": "95ca1acc",
   "metadata": {},
   "outputs": [
    {
     "data": {
      "text/plain": [
       "'Data Scientist'"
      ]
     },
     "execution_count": 34,
     "metadata": {},
     "output_type": "execute_result"
    }
   ],
   "source": [
    "my_dict['Occupation']"
   ]
  },
  {
   "cell_type": "markdown",
   "id": "1cba5a52",
   "metadata": {},
   "source": [
    "### SETS and BOOLEANS"
   ]
  },
  {
   "cell_type": "code",
   "execution_count": 37,
   "id": "cf6f7843",
   "metadata": {},
   "outputs": [],
   "source": [
    "myList = [1,1,2,3,4,4,5,6,6,7,7,7,9, 10.0]"
   ]
  },
  {
   "cell_type": "code",
   "execution_count": 38,
   "id": "2339971c",
   "metadata": {},
   "outputs": [
    {
     "data": {
      "text/plain": [
       "{1, 2, 3, 4, 5, 6, 7, 9, 10.0}"
      ]
     },
     "execution_count": 38,
     "metadata": {},
     "output_type": "execute_result"
    }
   ],
   "source": [
    "set(myList)"
   ]
  }
 ],
 "metadata": {
  "kernelspec": {
   "display_name": "Python 3 (ipykernel)",
   "language": "python",
   "name": "python3"
  },
  "language_info": {
   "codemirror_mode": {
    "name": "ipython",
    "version": 3
   },
   "file_extension": ".py",
   "mimetype": "text/x-python",
   "name": "python",
   "nbconvert_exporter": "python",
   "pygments_lexer": "ipython3",
   "version": "3.9.7"
  }
 },
 "nbformat": 4,
 "nbformat_minor": 5
}
