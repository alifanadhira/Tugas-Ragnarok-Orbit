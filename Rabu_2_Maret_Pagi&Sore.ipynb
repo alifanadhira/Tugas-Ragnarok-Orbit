{
 "cells": [
  {
   "cell_type": "markdown",
   "id": "f88ca9b2",
   "metadata": {},
   "source": [
    "## FGD Sesi pagi"
   ]
  },
  {
   "cell_type": "markdown",
   "id": "4d18419a",
   "metadata": {},
   "source": [
    "### Alifa Nadhira Putri"
   ]
  },
  {
   "cell_type": "markdown",
   "id": "5b713b11",
   "metadata": {},
   "source": [
    "1. 1. (b and c) = False\n",
    "   2. b or c = True\n",
    "   3. not a and b = True\n",
    "   4. (a and b) or not c = True\n",
    "   5. not b and not (a or c) = False"
   ]
  },
  {
   "cell_type": "markdown",
   "id": "52f018c4",
   "metadata": {},
   "source": [
    "2."
   ]
  },
  {
   "cell_type": "code",
   "execution_count": 2,
   "id": "84a2d05c",
   "metadata": {},
   "outputs": [
    {
     "name": "stdout",
     "output_type": "stream",
     "text": [
      "Hello!\n",
      "Enter something: world\n",
      "You entered: world\n"
     ]
    }
   ],
   "source": [
    "print(\"Hello!\")\n",
    "something = input(\"Enter something: \")\n",
    "print(\"You entered:\" ,something)"
   ]
  },
  {
   "cell_type": "markdown",
   "id": "4a627c6c",
   "metadata": {},
   "source": [
    "3."
   ]
  },
  {
   "cell_type": "code",
   "execution_count": 6,
   "id": "64d30a89",
   "metadata": {},
   "outputs": [
    {
     "name": "stdout",
     "output_type": "stream",
     "text": [
      "Hello!\n",
      "Enter something: hola!\n",
      "I don't know what, hola! means.\n"
     ]
    }
   ],
   "source": [
    "print(\"Hello!\")\n",
    "something = input(\"Enter something: \")\n",
    "if something == \"hello\":\n",
    "    print(\"Hello for you too!\")\n",
    "elif something == \"hi\":\n",
    "    print(\"Hi there!\")\n",
    "else:\n",
    "    print(\"I don't know what,\", something, \"means.\")"
   ]
  },
  {
   "cell_type": "markdown",
   "id": "5dd9fca4",
   "metadata": {},
   "source": [
    "4."
   ]
  },
  {
   "cell_type": "code",
   "execution_count": 15,
   "id": "1fbe2f2c",
   "metadata": {},
   "outputs": [
    {
     "name": "stdout",
     "output_type": "stream",
     "text": [
      "halo hai halo hai halo hai halo hai halo hai halo hai halo hai halo hai halo hai halo hai halo hai halo hai halo hai halo hai halo hai halo hai halo hai halo hai halo hai halo hai halo hai halo hai halo hai halo hai halo hai halo hai halo hai halo hai halo hai halo hai halo hai halo hai halo hai halo hai halo hai halo hai halo hai halo hai halo hai halo hai halo hai halo hai halo hai halo hai halo hai halo hai halo hai halo hai halo hai halo hai halo hai halo hai halo hai halo hai halo hai halo hai halo hai halo hai halo hai halo hai halo hai halo hai halo hai halo hai halo hai halo hai halo hai halo hai halo hai halo hai halo hai halo hai halo hai halo hai halo hai halo hai halo hai halo hai halo hai halo hai halo hai halo hai halo hai halo hai halo hai halo hai halo hai halo hai halo hai halo hai halo hai halo hai halo hai halo hai halo hai halo hai halo hai halo hai halo hai halo hai \n"
     ]
    }
   ],
   "source": [
    "repeat = \"halo hai \" * 100\n",
    "print(repeat)"
   ]
  },
  {
   "cell_type": "markdown",
   "id": "db017324",
   "metadata": {},
   "source": [
    "5."
   ]
  },
  {
   "cell_type": "code",
   "execution_count": 41,
   "id": "76ecf05e",
   "metadata": {},
   "outputs": [
    {
     "name": "stdout",
     "output_type": "stream",
     "text": [
      "Player 1?gunting\n",
      "Player 2?batu\n",
      "Player 2 wins!\n"
     ]
    }
   ],
   "source": [
    "player1 = input(\"Player 1?\")\n",
    "player2 = input(\"Player 2?\")\n",
    "if player1 == \"batu\" and player2 == \"gunting\":\n",
    "    print(\"Player 1 wins!\")\n",
    "elif player1 == \"gunting\" and player2 == \"kertas\":\n",
    "    print(\"Player 1 wins!\")\n",
    "elif player1 == \"kertas\" and player2 == \"batu\":\n",
    "    print(\"Player 1 wins!\")\n",
    "elif player1 == \"gunting\" and player2 == \"batu\":\n",
    "    print(\"Player 2 wins!\")\n",
    "elif player1 == \"kertas\" and player2 == \"gunting\":\n",
    "    print(\"Player 2 wins!\")\n",
    "elif player1 == \"batu\" and player2 == \"kertas\":\n",
    "    print(\"Player 2 wins!\")\n",
    "elif player1 == \"kertas\" and player2 == \"kertas\":\n",
    "    print(\"Seri!\")\n",
    "elif player1 == \"batu\" and player2 == \"batu\":\n",
    "    print(\"Seri!\")\n",
    "elif player1 == \"gunting\" and player2 == \"gunting\":\n",
    "    print(\"Seri!\")\n",
    "else:\n",
    "    print(\"Input tidak valid! Gunakan 'batu', 'kertas', 'gunting' tanpa kutip!\")"
   ]
  },
  {
   "cell_type": "markdown",
   "id": "a5a92475",
   "metadata": {},
   "source": [
    "6."
   ]
  },
  {
   "cell_type": "code",
   "execution_count": 50,
   "id": "fd57a47b",
   "metadata": {},
   "outputs": [
    {
     "name": "stdout",
     "output_type": "stream",
     "text": [
      "Enter a word: a word\n",
      "Enter another word: word\n",
      "Enter another word: again?\n",
      "Enter another word: what\n",
      "Enter another word: berenti\n"
     ]
    }
   ],
   "source": [
    "a = input(\"Enter a word: \")\n",
    "\n",
    "while a != \"berenti\":\n",
    "    a = input(\"Enter another word: \")"
   ]
  },
  {
   "cell_type": "markdown",
   "id": "5c7c9567",
   "metadata": {},
   "source": [
    "7."
   ]
  },
  {
   "cell_type": "code",
   "execution_count": 79,
   "id": "9ac63ebf",
   "metadata": {},
   "outputs": [
    {
     "name": "stdout",
     "output_type": "stream",
     "text": [
      "MENU JAJANAN PASAR\n",
      "1. Donat - Rp.2000,- \n",
      "2. Bakwan - Rp.1000,- \n",
      "3. Cimol - Rp.4000,-\n",
      "Input User: 1\n",
      "Kamu memesan Donat dengan harga Rp.2000,-, terima kasih sudah berbelanja!\n",
      "Input User: 2\n",
      "Kamu memesan Bakwan dengan harga Rp.1000,-, terima kasih sudah berbelanja!\n",
      "Input User: 3\n",
      "Kamu memesan Cimol dengan harga Rp.4000,-, terima kasih sudah berbelanja!\n",
      "Input User: 4\n",
      "Input invalid!\n",
      "Input User: cukup\n",
      "Terimakasih sudah berbelanja jajanan pasar kami!\n"
     ]
    }
   ],
   "source": [
    "print(\"MENU JAJANAN PASAR\")\n",
    "print (\"1. Donat - Rp.2000,- \\n2. Bakwan - Rp.1000,- \\n3. Cimol - Rp.4000,-\")\n",
    "\n",
    "satu = \"Donat\"\n",
    "harga1 = \"Rp.2000,-\"\n",
    "dua = \"Bakwan\"\n",
    "harga2 = \"Rp.1000,-\"\n",
    "tiga = \"Cimol\"\n",
    "harga3 = \"Rp.4000,-\"\n",
    "\n",
    "while True:\n",
    "    a = input(\"Input User: \")\n",
    "    if a == \"1\":\n",
    "        print(\"Kamu memesan {} dengan harga {}, terima kasih sudah berbelanja!\"\n",
    "             .format(satu, harga1))\n",
    "    elif a == \"2\":\n",
    "        print(\"Kamu memesan {} dengan harga {}, terima kasih sudah berbelanja!\"\n",
    "             .format(dua, harga2))\n",
    "    elif a == \"3\":\n",
    "        print(\"Kamu memesan {} dengan harga {}, terima kasih sudah berbelanja!\"\n",
    "             .format(tiga, harga3))\n",
    "    elif a == \"cukup\":\n",
    "        print(\"Terimakasih sudah berbelanja jajanan pasar kami!\")\n",
    "        break\n",
    "    else:\n",
    "        print(\"Input invalid!\")"
   ]
  },
  {
   "cell_type": "markdown",
   "id": "308b5ce1",
   "metadata": {},
   "source": [
    "8."
   ]
  },
  {
   "cell_type": "code",
   "execution_count": 2,
   "id": "ae62eb36",
   "metadata": {},
   "outputs": [
    {
     "name": "stdout",
     "output_type": "stream",
     "text": [
      "MENU JAJANAN PASAR\n",
      "1. Donat - Rp.2000,- \n",
      "2. Bakwan - Rp.1000,- \n",
      "3. Cimol - Rp.4000,-\n",
      "Input User: 3\n",
      "Banyak jajanan: 3\n",
      "Kamu memesan Cimol dengan harga 4000 sebanyak Rp.12000, terima kasih sudah berbelanja!\n",
      "Input User: 3\n",
      "Banyak jajanan: 0\n",
      "Input invalid!\n",
      "Input User: cukup\n",
      "Banyak jajanan: 0\n",
      "Terimakasih sudah berbelanja jajanan pasar kami!\n"
     ]
    }
   ],
   "source": [
    "print(\"MENU JAJANAN PASAR\")\n",
    "print (\"1. Donat - Rp.2000,- \\n2. Bakwan - Rp.1000,- \\n3. Cimol - Rp.4000,-\")\n",
    "\n",
    "satu = \"Donat\"\n",
    "harga1 = 2000\n",
    "dua = \"Bakwan\"\n",
    "harga2 = 1000\n",
    "tiga = \"Cimol\"\n",
    "harga3 = 4000\n",
    "\n",
    "\n",
    "while True:\n",
    "    a = input(\"Input User: \")\n",
    "    b = int(input(\"Banyak jajanan: \"))\n",
    "    if a == \"1\" and b >= 1:\n",
    "        print(\"Kamu memesan {} dengan harga {} dengan total Rp.{}, terima kasih sudah berbelanja!\"\n",
    "             .format(satu, harga1, b) * harga1)\n",
    "    elif a == \"2\" and b >= 1:\n",
    "        print(\"Kamu memesan {} dengan harga {} dengan total Rp.{}, terima kasih sudah berbelanja!\"\n",
    "             .format(dua, harga2, b * harga2))\n",
    "    elif a == \"3\" and b >= 1:\n",
    "        print(\"Kamu memesan {} dengan harga {} dengan total Rp.{}, terima kasih sudah berbelanja!\"\n",
    "             .format(tiga, harga3, b * harga3))\n",
    "    elif a == \"cukup\" and b == 0:\n",
    "        break\n",
    "    else:\n",
    "        print(\"Input invalid!\")\n",
    "        \n",
    "\n",
    "print(\"Terimakasih sudah berbelanja jajanan pasar kami!\")"
   ]
  },
  {
   "cell_type": "markdown",
   "id": "da929539",
   "metadata": {},
   "source": [
    "## FGD Sesi Sore"
   ]
  },
  {
   "cell_type": "markdown",
   "id": "b35a00ca",
   "metadata": {},
   "source": [
    "1."
   ]
  },
  {
   "cell_type": "code",
   "execution_count": 37,
   "id": "306c874e",
   "metadata": {},
   "outputs": [
    {
     "name": "stdout",
     "output_type": "stream",
     "text": [
      "Enter a number:3\n",
      "Divisible by:6\n",
      "False\n"
     ]
    }
   ],
   "source": [
    "def div(a,b):\n",
    "    if a % b == 0:\n",
    "        print(True)\n",
    "    else:\n",
    "        print(False)\n",
    "\n",
    "m = int(input(\"Enter a number:\"))\n",
    "n = int(input(\"Divisible by:\"))\n",
    "\n",
    "div(m,n)"
   ]
  },
  {
   "cell_type": "markdown",
   "id": "b7f56bb8",
   "metadata": {},
   "source": [
    "2."
   ]
  },
  {
   "cell_type": "code",
   "execution_count": 10,
   "id": "e5967ff2",
   "metadata": {},
   "outputs": [],
   "source": [
    "def menu():\n",
    "    print(\"1. Soup and salad \\n2. Pasta with meat sauce \\n3. Chef's special\")\n",
    "    choice = int(input(\"Which number would you like to order? \"))\n",
    "    if choice == 1:\n",
    "        print(\"One Soup&Salad coming right up!\")\n",
    "    elif choice == 2:\n",
    "        print(\"One Pasta with meat sauce coming right up!\")\n",
    "    elif choice == 3:\n",
    "        print(\"One Chef's special coming right up!\")\n",
    "    else:\n",
    "        print(\"Sorry, that is not a valid choice.\")\n"
   ]
  },
  {
   "cell_type": "code",
   "execution_count": 11,
   "id": "b188b3ca",
   "metadata": {},
   "outputs": [
    {
     "name": "stdout",
     "output_type": "stream",
     "text": [
      "1. Soup and salad \n",
      "2. Pasta with meat sauce \n",
      "3. Chef's special\n",
      "Which number would you like to order? 1\n",
      "One Soup&Salad coming right up!\n"
     ]
    }
   ],
   "source": [
    "menu()"
   ]
  },
  {
   "cell_type": "markdown",
   "id": "cc417b63",
   "metadata": {},
   "source": [
    "3."
   ]
  },
  {
   "cell_type": "code",
   "execution_count": 18,
   "id": "25d52789",
   "metadata": {},
   "outputs": [
    {
     "data": {
      "text/plain": [
       "True"
      ]
     },
     "execution_count": 18,
     "metadata": {},
     "output_type": "execute_result"
    }
   ],
   "source": [
    "def rand_divis_3():\n",
    "    a = int(21)\n",
    "    if a % 3 == 0:\n",
    "        return True\n",
    "    else:\n",
    "        return False\n",
    "    \n",
    "rand_divis_3()"
   ]
  },
  {
   "cell_type": "markdown",
   "id": "9a3e7672",
   "metadata": {},
   "source": [
    "4."
   ]
  },
  {
   "cell_type": "code",
   "execution_count": 36,
   "id": "50b4d7fa",
   "metadata": {},
   "outputs": [
    {
     "name": "stdout",
     "output_type": "stream",
     "text": [
      "True\n"
     ]
    }
   ],
   "source": [
    "def tidak_sama(x, y):\n",
    "    if x is not y:\n",
    "        print(True)\n",
    "    else:\n",
    "        print(False)\n",
    "\n",
    "tidak_sama(1, 10)"
   ]
  },
  {
   "cell_type": "markdown",
   "id": "16d242b4",
   "metadata": {},
   "source": [
    "5."
   ]
  },
  {
   "cell_type": "code",
   "execution_count": 1,
   "id": "bf8b872a",
   "metadata": {},
   "outputs": [
    {
     "name": "stdout",
     "output_type": "stream",
     "text": [
      "Enter your name: lolo\n",
      "Your name is: lolo\n"
     ]
    }
   ],
   "source": [
    "def ask_name():\n",
    "    name = input(\"Enter your name: \")\n",
    "    print(\"Your name is:\", name)\n",
    "    \n",
    "ask_name()"
   ]
  },
  {
   "cell_type": "code",
   "execution_count": null,
   "id": "8a43df08",
   "metadata": {},
   "outputs": [],
   "source": []
  }
 ],
 "metadata": {
  "kernelspec": {
   "display_name": "Python 3 (ipykernel)",
   "language": "python",
   "name": "python3"
  },
  "language_info": {
   "codemirror_mode": {
    "name": "ipython",
    "version": 3
   },
   "file_extension": ".py",
   "mimetype": "text/x-python",
   "name": "python",
   "nbconvert_exporter": "python",
   "pygments_lexer": "ipython3",
   "version": "3.9.7"
  }
 },
 "nbformat": 4,
 "nbformat_minor": 5
}
