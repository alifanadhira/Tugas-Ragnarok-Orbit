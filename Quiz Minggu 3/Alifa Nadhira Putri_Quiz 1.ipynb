{
 "cells": [
  {
   "cell_type": "markdown",
   "id": "55ec0685",
   "metadata": {},
   "source": [
    "## OOP"
   ]
  },
  {
   "cell_type": "markdown",
   "id": "76b34302",
   "metadata": {},
   "source": [
    "1. OOP merupakan program yang berorientasi object."
   ]
  },
  {
   "cell_type": "markdown",
   "id": "4dcd8375",
   "metadata": {},
   "source": [
    "### Inheritence"
   ]
  },
  {
   "cell_type": "code",
   "execution_count": 7,
   "id": "f42fb95a",
   "metadata": {},
   "outputs": [
    {
     "name": "stdout",
     "output_type": "stream",
     "text": [
      "Nama: riri, Umur ikan: 2, Jenis: Ikan Koi\n"
     ]
    }
   ],
   "source": [
    "class Ikan(object):\n",
    "    def __init__(self, nama, umur, jenis):\n",
    "        self.nama = nama\n",
    "        self.umur = umur\n",
    "        self.jenis = jenis\n",
    "\n",
    "    def renang(self, durasi):\n",
    "        for x in range(durasi):\n",
    "            print(\"blurrp\")\n",
    "\n",
    "    def info(self):\n",
    "        print(f\"Nama: {self.nama}, Umur ikan: {self.umur}, Jenis: {self.jenis}\")\n",
    "\n",
    "\n",
    "ikan1 = Ikan(\"riri\", 2, \"Ikan Koi\")\n",
    "\n",
    "ikan1.info()"
   ]
  },
  {
   "cell_type": "code",
   "execution_count": 8,
   "id": "1e2eaf1d",
   "metadata": {},
   "outputs": [
    {
     "name": "stdout",
     "output_type": "stream",
     "text": [
      "Nama: Riri, Umur ikan: 2, Jenis: Ikan Koi\n",
      "Warna: Orange\n",
      "blurrp\n",
      "swoosh\n"
     ]
    }
   ],
   "source": [
    "class air_tawar(Ikan):\n",
    "    def __init__(self,  nama, umur, jenis, warna):\n",
    "        super().__init__(nama, umur, jenis)\n",
    "        self.warna = warna\n",
    "\n",
    "    def berenang(self):\n",
    "        super().renang(1)\n",
    "        print(\"swoosh\")\n",
    "\n",
    "    def info_ikan(self):\n",
    "        super().info()\n",
    "        print(f\"Warna: {self.warna}\")\n",
    "\n",
    "ikan_1 = air_tawar(\"Riri\", 2, \"Ikan Koi\", \"Orange\")\n",
    "\n",
    "ikan_1.info_ikan()\n",
    "ikan_1.berenang()"
   ]
  },
  {
   "cell_type": "markdown",
   "id": "b93dcc00",
   "metadata": {},
   "source": [
    "### Encapsulation"
   ]
  },
  {
   "cell_type": "code",
   "execution_count": 11,
   "id": "0c8a99d9",
   "metadata": {},
   "outputs": [
    {
     "name": "stdout",
     "output_type": "stream",
     "text": [
      "Nama: riri, Umur: 2, Warna ikan: Orange, jenis ikan: Koi\n",
      "woosh wossh\n"
     ]
    }
   ],
   "source": [
    "nama = \"riri\"\n",
    "umur = 2\n",
    "warna = \"Orange\"\n",
    "jenis = \"Koi\"\n",
    "\n",
    "def renang():\n",
    "    print(\"woosh wossh\")\n",
    "    \n",
    "def info_ikan(nama, umur, warna, jenis):\n",
    "    print(f\"Nama: {nama}, Umur: {umur}, Warna ikan: {warna}, jenis ikan: {jenis}\") \n",
    "\n",
    "info_ikan(nama, umur, warna, jenis)\n",
    "renang()"
   ]
  },
  {
   "cell_type": "code",
   "execution_count": 13,
   "id": "4596b541",
   "metadata": {},
   "outputs": [
    {
     "name": "stdout",
     "output_type": "stream",
     "text": [
      "Nama Laut: Pantai Santolo, Lokasi: Jawa Barat, Harga Tiket: 4000\n",
      "Silahkan masuk Pantai Santolo\n"
     ]
    }
   ],
   "source": [
    "class laut(object):\n",
    "    \n",
    "    def __init__(self, nama, lokasi, harga_tiket):\n",
    "        self.nama = nama\n",
    "        self.lokasi = lokasi\n",
    "        self.harga_tiket = harga_tiket\n",
    "        \n",
    "    def masuk(self):\n",
    "        print(\"Silahkan masuk\", self.nama)\n",
    "    \n",
    "    def info(self):\n",
    "        print(f\"Nama Laut: {self.nama}, Lokasi: {self.lokasi}, Harga Tiket: {self.harga_tiket}\")\n",
    "\n",
    "pengunjung = laut(\"Pantai Santolo\", \"Jawa Barat\", 4000)\n",
    "\n",
    "pengunjung.info()\n",
    "pengunjung.masuk()\n"
   ]
  },
  {
   "cell_type": "markdown",
   "id": "6c592a42",
   "metadata": {},
   "source": [
    "2. Modules built in dan costume modules.\n",
    "\n",
    "modules built in adalah modules bawaan dari python seperti time, math.\n",
    "costume modules adalah modules yang dibuat oleh developer sendiri yang bisa di import atau digunakan berulang kali oleh developer."
   ]
  },
  {
   "cell_type": "markdown",
   "id": "295fec43",
   "metadata": {},
   "source": [
    "3."
   ]
  },
  {
   "cell_type": "code",
   "execution_count": 28,
   "id": "2db43e05",
   "metadata": {},
   "outputs": [
    {
     "name": "stdout",
     "output_type": "stream",
     "text": [
      "18.781103542860762\n"
     ]
    }
   ],
   "source": [
    "import math\n",
    "\n",
    "print(math.sqrt(175) + (4**(1/7)) + (1/3) + math.log(81, 3))"
   ]
  },
  {
   "cell_type": "markdown",
   "id": "9551b7c3",
   "metadata": {},
   "source": [
    "4. exception handling dapat membuat program terus berjalan walaupun ada error di tengah-tengah program"
   ]
  },
  {
   "cell_type": "code",
   "execution_count": 27,
   "id": "69a7eb3f",
   "metadata": {},
   "outputs": [
    {
     "name": "stdout",
     "output_type": "stream",
     "text": [
      "Error because x is not defined\n"
     ]
    }
   ],
   "source": [
    "try:\n",
    "    print(x)\n",
    "except:\n",
    "    print(\"Error because x is not defined\")"
   ]
  },
  {
   "cell_type": "markdown",
   "id": "12f20a01",
   "metadata": {},
   "source": [
    "## AI"
   ]
  },
  {
   "cell_type": "markdown",
   "id": "e3e2d6f7",
   "metadata": {},
   "source": [
    "1. structured data merupakan data yang mudah diolah dan tabular seperti file dalam excel yang berbentuk tabel, sedangkan data unstructured adalah data yang lebih sulit untuk di olah contoh nya images, suara, sensor. \n",
    "\n",
    "      sumber data: survey, camera, web scrapping, observation, sensor, API"
   ]
  },
  {
   "cell_type": "markdown",
   "id": "2ec8b9d4",
   "metadata": {},
   "source": [
    "2. AI memiliki merupakan mesin yang dapat menyelesaikan tugas-tugas yang biasa diselesaikan oleh manusia.\n",
    "ML merupakan algoritma yang menggunakan data untu, membangun kecerdasan mesin\n",
    "DL merupakan algoritma yang menggunakan data untuk pembangunan automated feature engineering yang berkaitan erat dengan unstructured data"
   ]
  },
  {
   "cell_type": "markdown",
   "id": "4c21d57c",
   "metadata": {},
   "source": [
    "3. traditional programming masih membutuhkan perintah yang sudah ada atau sudah di buat sebelumnya sedang kan ML approach mesin itu sendiri yang dapat mengambil keputusan atau mempelajari kemungkinan-kemungkinan dari data"
   ]
  },
  {
   "cell_type": "markdown",
   "id": "445a2fe4",
   "metadata": {},
   "source": [
    "4. e-commerece, klasterisasi pemetaan lahan pertanian, self-driving car"
   ]
  },
  {
   "cell_type": "markdown",
   "id": "8d170c0b",
   "metadata": {},
   "source": [
    "## Math for AI"
   ]
  },
  {
   "cell_type": "markdown",
   "id": "e9d44770",
   "metadata": {},
   "source": [
    "1. Karena semua metode atau algoritma yang digunakan merupakan operasi-operasi bilangan yang membutuhkan perhitungan matematika untuk mengambil keputusan"
   ]
  },
  {
   "cell_type": "markdown",
   "id": "5bb6e930",
   "metadata": {},
   "source": [
    "2. * Vektor: besaran yang memiliki nilai dan arah\n",
    "   * Skalar: konstanta atau besaran yang memiliki nilai"
   ]
  },
  {
   "cell_type": "markdown",
   "id": "fa6a6016",
   "metadata": {},
   "source": [
    "3. jarak euclidean merupakan jarak yang menghitung dua titik yang mempelajari hubungan anatara sudut dan jarak sedangkan jarak manhattan menghitung jumlah dari panjang ruas garis dua titik."
   ]
  },
  {
   "cell_type": "markdown",
   "id": "4a0e02e8",
   "metadata": {},
   "source": [
    "4. Penerapan matriks dalam AI dapat menangani data dalam jumlah yang besar dan lebih mudah untuk menerapkan operasi skalar juga operasi antar vektor dengan kecepatan dan kemudahan yang tinggi."
   ]
  },
  {
   "cell_type": "markdown",
   "id": "b8c8ebca",
   "metadata": {},
   "source": [
    "## ML"
   ]
  },
  {
   "cell_type": "markdown",
   "id": "abb53760",
   "metadata": {},
   "source": [
    "1. supervised learning merupakan pemrogramman yang sudah diberikan nama untuk outputnya seperti ramalan cuaca dan lulus atau tidak nya mahasiswa dalam ujian. sedangkan unsupervised learning tidak diketahuinama untuk outputnya seperti "
   ]
  },
  {
   "cell_type": "markdown",
   "id": "29d8d3ff",
   "metadata": {},
   "source": [
    "2. \t* Problem scoping\n",
    "\tThe 4Ws of problem scoping(who, what, where, why) >> problem statement template\n",
    "\t* Data acquisition\n",
    "\tData sources: survey, camera, web scrapping, observation, sensor, API\n",
    "\tSistem akuisisi data: manual, pipeline, automated data acquisition\n",
    "\t* Data exploration\n",
    "\tMemahami tren, hubungan dan pola dalam data\n",
    "\tVisualisasi data\n",
    "\t* Modelling\n",
    "\tModel yg baik cukup mengandung bagian-bagian yang perlu saja\n",
    "\tUntuk memahami pola tertentu di data\n",
    "\t* Evaluation\n",
    "\tConfusion matrix\n",
    "\tAkurasi(presentase predksi yg benar dari semua kemungkinan)\n",
    "\tPresisi(presentase dari case yang diprediksi positif)\n",
    "\tRecall\n",
    "\t* Deployment"
   ]
  },
  {
   "cell_type": "markdown",
   "id": "47d164ad",
   "metadata": {},
   "source": [
    "3. clustering merupakan metode yang dapat mengkalsifikasikan data, sedangkan regression digunakan untuk menganalisis hubungan atau realsi dalam"
   ]
  },
  {
   "cell_type": "markdown",
   "id": "6b33dc4c",
   "metadata": {},
   "source": [
    "4. Artificial Neural network merupakan algoritma yang menirukan bagaimana cara kerja neuron manusia. Fungsi dari ANN adalah pengkalsifikasian pola yang bisa dipanggil kembali."
   ]
  },
  {
   "cell_type": "code",
   "execution_count": null,
   "id": "efb5c06b",
   "metadata": {},
   "outputs": [],
   "source": []
  }
 ],
 "metadata": {
  "kernelspec": {
   "display_name": "Python 3 (ipykernel)",
   "language": "python",
   "name": "python3"
  },
  "language_info": {
   "codemirror_mode": {
    "name": "ipython",
    "version": 3
   },
   "file_extension": ".py",
   "mimetype": "text/x-python",
   "name": "python",
   "nbconvert_exporter": "python",
   "pygments_lexer": "ipython3",
   "version": "3.9.7"
  }
 },
 "nbformat": 4,
 "nbformat_minor": 5
}
